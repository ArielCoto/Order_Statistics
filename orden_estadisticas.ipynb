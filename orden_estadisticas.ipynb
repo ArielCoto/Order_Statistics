{
 "cells": [
  {
   "cell_type": "markdown",
   "metadata": {},
   "source": [
    "# Ejercicio.\n",
    "\n",
    "# Ariel Coto Tapia"
   ]
  },
  {
   "cell_type": "markdown",
   "metadata": {},
   "source": [
    "#### Vamos a dar dos metodos para simular variables aleatorias Beta(α, β). Para ello supondremos que α y β son parametros en los números naturales, elige los que tú gustes.\n",
    "\n",
    "#### Método 1. Simula  $\\alpha + \\beta -1$  variables aleatorias $U_{1},...,U_{\\alpha+\\beta-1}$ uniformes en el [0, 1], y toma el α- ́esimo estadístico de orden, es decir, $U_{(\\alpha)}$ . Si defines $Z=U_{(\\alpha)}$, entonces Z se distribuye Beta(α, β).\n",
    "\n",
    "#### Método 2. Simula 2 variables $Y_{1}~Gamma(\\alpha,1)$ y $Y_{2}~Gamma(\\beta ,1)$. Si definimos $Z=\\frac{Y_{1}}{Y_{1}+Y_{2}}$, entonces $Z$ se distribuye Beta(α, β).(Puedes hacer uso de la funcion $numpy.random.gamma$"
   ]
  },
  {
   "cell_type": "markdown",
   "metadata": {},
   "source": [
    "* Empezaremos con el Método $\\textbf{2}$ para simular variables aleatorias Beta($\\alpha,\\beta$).\n",
    "#### Sean $\\alpha=1$ y $\\beta=2$"
   ]
  },
  {
   "cell_type": "code",
   "execution_count": 2,
   "metadata": {},
   "outputs": [],
   "source": [
    "import scipy.stats as stats\n",
    "import matplotlib.pyplot as plt\n",
    "import numpy as np\n",
    "import random"
   ]
  },
  {
   "cell_type": "code",
   "execution_count": 3,
   "metadata": {},
   "outputs": [],
   "source": [
    "alpha=1\n",
    "beta=2\n",
    "Y_1=random.gammavariate(alpha,1)\n",
    "Y_2=random.gammavariate(beta,2)\n"
   ]
  },
  {
   "cell_type": "markdown",
   "metadata": {},
   "source": [
    "##### Definimos Z"
   ]
  },
  {
   "cell_type": "code",
   "execution_count": 4,
   "metadata": {},
   "outputs": [],
   "source": [
    "Z=Y_1/(Y_1+Y_2)"
   ]
  },
  {
   "cell_type": "markdown",
   "metadata": {},
   "source": [
    "$\\to$ $Z$ se distribuye Beta($\\alpha, \\beta$)"
   ]
  },
  {
   "cell_type": "markdown",
   "metadata": {},
   "source": [
    "* Luego continuamos con el Método $\\textbf{1}$ para simular variables aleatorias Beta($\\alpha,\\beta$)."
   ]
  },
  {
   "cell_type": "markdown",
   "metadata": {},
   "source": [
    "Como $\\alpha=1$ y $\\beta=2$ entonces, simularemos $\\alpha+\\beta-1=\\mathbf{2}$ variables aleatorias. Siendo $U_{1}$ y $U_{2}$ uniformes en el [0,1]"
   ]
  },
  {
   "cell_type": "code",
   "execution_count": 5,
   "metadata": {},
   "outputs": [
    {
     "data": {
      "text/plain": [
       "array([0.25013305, 0.76260016])"
      ]
     },
     "execution_count": 5,
     "metadata": {},
     "output_type": "execute_result"
    }
   ],
   "source": [
    "random_sample=stats.uniform.rvs(loc=0,scale=1,size=2)\n",
    "random_sample"
   ]
  },
  {
   "cell_type": "markdown",
   "metadata": {},
   "source": []
  },
  {
   "cell_type": "code",
   "execution_count": 6,
   "metadata": {},
   "outputs": [],
   "source": [
    "ordered_sample=sorted(random_sample)"
   ]
  },
  {
   "cell_type": "code",
   "execution_count": 7,
   "metadata": {},
   "outputs": [
    {
     "name": "stdout",
     "output_type": "stream",
     "text": [
      "0.25013304573519346\n"
     ]
    }
   ],
   "source": [
    "Z=ordered_sample[0]\n",
    "print(Z)"
   ]
  },
  {
   "cell_type": "markdown",
   "metadata": {},
   "source": [
    "$\\to$ $Z$ se distribuye Beta($\\alpha,\\beta$)"
   ]
  },
  {
   "cell_type": "markdown",
   "metadata": {},
   "source": [
    "#### Sabiendo esto, haz un programa que realice tres histogramas, el primero de n (por ejemplo $n=1000$ o la cantidad suficientemente grande que gustes) simulaciones de variables aleatorias $Beta(\\alpha,\\beta)$ obtenidas por el método 1, otro histograma de $n$ simulaciones de $Beta(\\alpha,\\beta)$  por el método 2 y el  ́ultimo histograma de n simulaciones usando la función $numpy.random.beta$ ¿Son parecidos? Si $\\alpha, \\beta$ son números naturales muy grandes¿tarda igual o tarda más el método 1?"
   ]
  },
  {
   "cell_type": "markdown",
   "metadata": {},
   "source": [
    "* Primer histograma $\\textbf{Método 1}$"
   ]
  },
  {
   "cell_type": "code",
   "execution_count": 10,
   "metadata": {},
   "outputs": [],
   "source": [
    "n_1=100000\n",
    "t_list_1=[]\n",
    "\n",
    "for i in range(n_1):\n",
    "    random_sample=stats.uniform.rvs(loc=0,scale=1,size=2)\n",
    "    ordered_sample=sorted(random_sample)\n",
    "    Z_1=ordered_sample[0]\n",
    "    t_list_1.append(Z_1)\n",
    "    \n",
    "    "
   ]
  },
  {
   "cell_type": "code",
   "execution_count": 12,
   "metadata": {},
   "outputs": [
    {
     "data": {
      "image/png": "[encoded data removed]",
      "text/plain": [
       "<Figure size 432x288 with 1 Axes>"
      ]
     },
     "metadata": {
      "needs_background": "light"
     },
     "output_type": "display_data"
    }
   ],
   "source": [
    "plt.hist(x=t_list_1, density=True,color='#F2AB6D',rwidth=0.9,bins=1000)\n",
    "plt.xlabel('$Z \\sim \\alpha,\\beta $')\n",
    "plt.ylabel('Frecuencia')\n",
    "plt.title('Distribución Beta. Método 1')\n",
    "plt.show()"
   ]
  },
  {
   "cell_type": "markdown",
   "metadata": {},
   "source": [
    "* Segundo histograma $\\textbf{Método 2}$"
   ]
  },
  {
   "cell_type": "code",
   "execution_count": 20,
   "metadata": {},
   "outputs": [],
   "source": [
    "n_2=100000\n",
    "t_list_2=[]\n",
    "\n",
    "for i in range(n_2):\n",
    "    alpha=1\n",
    "    beta=2\n",
    "    Y_1=np.random.gamma(alpha,1)\n",
    "    Y_2=np.random.gamma(beta,2)\n",
    "    Z_2=Y_1/(Y_1+Y_2)\n",
    "    t_list_2.append(Z_2)\n",
    "    "
   ]
  },
  {
   "cell_type": "code",
   "execution_count": 21,
   "metadata": {},
   "outputs": [
    {
     "data": {
      "image/png": "[encoded data removed]",
      "text/plain": [
       "<Figure size 432x288 with 1 Axes>"
      ]
     },
     "metadata": {
      "needs_background": "light"
     },
     "output_type": "display_data"
    }
   ],
   "source": [
    "plt.hist(x=t_list_2,density=True, color='tab:purple',rwidth=0.9,bins=1000)\n",
    "plt.xlabel('$Z \\sim (\\alpha,\\beta)$')\n",
    "plt.ylabel('Frecuencia')\n",
    "plt.title('Distribución Beta. Método 2')\n",
    "plt.show()"
   ]
  },
  {
   "cell_type": "markdown",
   "metadata": {},
   "source": [
    "* Tercer histograma usando la función $\\textbf{numpy.random.beta}$"
   ]
  },
  {
   "cell_type": "code",
   "execution_count": 17,
   "metadata": {},
   "outputs": [],
   "source": [
    "n_3=100000\n",
    "t_list_3=[]\n",
    "\n",
    "for i in range(n_3):\n",
    "    alpha=1\n",
    "    beta=2\n",
    "    Z_3=np.random.beta(alpha,beta)\n",
    "    t_list_3.append(Z_3)"
   ]
  },
  {
   "cell_type": "code",
   "execution_count": 18,
   "metadata": {},
   "outputs": [
    {
     "data": {
      "image/png": "[encoded data removed]",
      "text/plain": [
       "<Figure size 432x288 with 1 Axes>"
      ]
     },
     "metadata": {
      "needs_background": "light"
     },
     "output_type": "display_data"
    }
   ],
   "source": [
    "plt.hist(x=t_list_3,density=True, color='seagreen',rwidth=0.9,bins=1000)\n",
    "plt.xlabel('$Z \\sim (\\alpha,\\beta)$')\n",
    "plt.ylabel('Frecuencia')\n",
    "plt.title('Distribución Beta. Método 3')\n",
    "plt.show()"
   ]
  },
  {
   "cell_type": "markdown",
   "metadata": {},
   "source": [
    "#### Respondiendo a la interrogante si ¿son parecidos los histogramas?. Si son parecidos, sobre todo el Método 1 con el Tercer histograma."
   ]
  },
  {
   "cell_type": "markdown",
   "metadata": {},
   "source": [
    "* Ahora, Si  $\\alpha$, $\\beta$  son números naturales muy grandes¿tarda igual o tarda más el método 1?"
   ]
  },
  {
   "cell_type": "markdown",
   "metadata": {},
   "source": [
    "Veamos...\n",
    "Sea $\\alpha=30,000$ y $\\beta=100,000$, entonces simularemos $\\alpha+\\beta-1=129,999$ variables aleatorias. Siendo $U_{1},...,U_{129,999}$ uniformes en el intervalo [0,1].\n",
    "Tomamos α- ́esimo estadístico de orden, es decir, $U_{(\\alpha)}$ "
   ]
  },
  {
   "cell_type": "code",
   "execution_count": 3,
   "metadata": {},
   "outputs": [],
   "source": [
    "n_prueba=1000\n",
    "t_list_prueba=[]\n",
    "\n",
    "for i in range(n_prueba):\n",
    "    random_sample_prueba=stats.uniform.rvs(loc=0,scale=1,size=129999)\n",
    "    ordered_sample_prueba=sorted(random_sample_prueba)\n",
    "    Z_prueba=ordered_sample_prueba[30001]\n",
    "    t_list_prueba.append(Z_prueba)\n",
    "    "
   ]
  },
  {
   "cell_type": "code",
   "execution_count": 15,
   "metadata": {},
   "outputs": [
    {
     "data": {
      "image/png": "[encoded data removed]",
      "text/plain": [
       "<Figure size 432x288 with 1 Axes>"
      ]
     },
     "metadata": {
      "needs_background": "light"
     },
     "output_type": "display_data"
    }
   ],
   "source": [
    "plt.hist(x=t_list_prueba, density=True,color='black',rwidth=0.95,bins=100)\n",
    "plt.xlabel('$Z \\sim (\\alpha,\\beta)$')\n",
    "plt.ylabel('Frecuencia')\n",
    "plt.title('Distribución Beta. Método ANEXO')\n",
    "plt.show()"
   ]
  },
  {
   "cell_type": "markdown",
   "metadata": {},
   "source": [
    "#### Es evidente que tarda mucho más en cargar los datos con parametros mucho más grandes, además vemos que tiende a una distribución normal."
   ]
  }
 ],
 "metadata": {
  "kernelspec": {
   "display_name": "Python 3",
   "language": "python",
   "name": "python3"
  },
  "language_info": {
   "codemirror_mode": {
    "name": "ipython",
    "version": 3
   },
   "file_extension": ".py",
   "mimetype": "text/x-python",
   "name": "python",
   "nbconvert_exporter": "python",
   "pygments_lexer": "ipython3",
   "version": "3.8.5"
  }
 },
 "nbformat": 4,
 "nbformat_minor": 4
}
